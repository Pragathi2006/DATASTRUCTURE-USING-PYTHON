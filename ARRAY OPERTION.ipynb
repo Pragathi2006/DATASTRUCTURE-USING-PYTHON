{
 "cells": [
  {
   "cell_type": "code",
   "execution_count": 3,
   "id": "7980f551-1b67-40eb-b44b-46b6b54bf74d",
   "metadata": {},
   "outputs": [
    {
     "name": "stdout",
     "output_type": "stream",
     "text": [
      "10\n",
      "40\n"
     ]
    }
   ],
   "source": [
    "#TRAVERSAL\n",
    "import array as arr\n",
    "x=arr.array(\"i\",[10,20,30,40,50])\n",
    "print(x[0])# ACCESSING THE ELEMENTS\n",
    "print(x[3])"
   ]
  },
  {
   "cell_type": "code",
   "execution_count": 5,
   "id": "9d3e4093-e158-4400-a420-7a20cae352bd",
   "metadata": {},
   "outputs": [
    {
     "name": "stdout",
     "output_type": "stream",
     "text": [
      "10\n",
      "30\n"
     ]
    }
   ],
   "source": [
    "import numpy as np\n",
    "y=np.array([10,20,30,40,50])\n",
    "print(x[0])\n",
    "print(x[2])"
   ]
  },
  {
   "cell_type": "code",
   "execution_count": 13,
   "id": "35fe55e0-8a5d-4f43-91bd-504509167fe4",
   "metadata": {},
   "outputs": [
    {
     "name": "stdout",
     "output_type": "stream",
     "text": [
      "array('i', [10, 20, 80, 30, 40, 50])\n"
     ]
    }
   ],
   "source": [
    "# INSERTION\n",
    "import array as arr\n",
    "x=arr.array(\"i\",[10,20,30,40,50])\n",
    "x.insert(2,80)# inserting THE ELEMENTS\n",
    "print(x)"
   ]
  },
  {
   "cell_type": "code",
   "execution_count": 11,
   "id": "74bc9aa3-fc0f-443d-9376-3ed5d95dc5d0",
   "metadata": {},
   "outputs": [
    {
     "name": "stdout",
     "output_type": "stream",
     "text": [
      "[ 10  20 100  30  40  50]\n"
     ]
    }
   ],
   "source": [
    "import numpy as np\n",
    "y=np.array([10,20,30,40,50])\n",
    "z=np.insert(y,2,100)\n",
    "print(z)"
   ]
  },
  {
   "cell_type": "code",
   "execution_count": 15,
   "id": "8a1db43d-76dc-4a01-8c53-54fc582e405f",
   "metadata": {},
   "outputs": [
    {
     "name": "stdout",
     "output_type": "stream",
     "text": [
      "array('i', [10, 20, 30, 50])\n"
     ]
    }
   ],
   "source": [
    "# DELETION\n",
    "import array as arr\n",
    "x=arr.array(\"i\",[10,20,30,40,50])\n",
    "x.remove(40)# deleting the elements\n",
    "print(x)"
   ]
  },
  {
   "cell_type": "code",
   "execution_count": 17,
   "id": "de4379b2-71fe-467a-acf6-ec004b618bd3",
   "metadata": {},
   "outputs": [
    {
     "name": "stdout",
     "output_type": "stream",
     "text": [
      "4\n"
     ]
    }
   ],
   "source": [
    "#SEARCHING\n",
    "import array as arr\n",
    "x=arr.array(\"i\",[10,20,30,40,50])\n",
    "print(x.index(50))#searching an element"
   ]
  },
  {
   "cell_type": "code",
   "execution_count": 19,
   "id": "16220228-3329-417e-9329-6c176e27abec",
   "metadata": {},
   "outputs": [
    {
     "name": "stdout",
     "output_type": "stream",
     "text": [
      "array('i', [100, 20, 30, 40, 50])\n"
     ]
    }
   ],
   "source": [
    "#UPDATE \n",
    "import array as arr\n",
    "x=arr.array(\"i\",[10,20,30,40,50])\n",
    "x[0]=100 # UPDATING THE ELEMENTS\n",
    "print(x)"
   ]
  },
  {
   "cell_type": "code",
   "execution_count": null,
   "id": "c5044886-cfc3-4f96-8d6d-1a0a6ff77025",
   "metadata": {},
   "outputs": [],
   "source": []
  }
 ],
 "metadata": {
  "kernelspec": {
   "display_name": "Python 3 (ipykernel)",
   "language": "python",
   "name": "python3"
  },
  "language_info": {
   "codemirror_mode": {
    "name": "ipython",
    "version": 3
   },
   "file_extension": ".py",
   "mimetype": "text/x-python",
   "name": "python",
   "nbconvert_exporter": "python",
   "pygments_lexer": "ipython3",
   "version": "3.12.4"
  }
 },
 "nbformat": 4,
 "nbformat_minor": 5
}
