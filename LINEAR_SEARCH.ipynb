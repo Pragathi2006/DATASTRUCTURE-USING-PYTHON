{
 "cells": [
  {
   "cell_type": "code",
   "execution_count": 1,
   "id": "12782c9e-b11f-44f1-9300-e94f0955d0e6",
   "metadata": {},
   "outputs": [
    {
     "name": "stdin",
     "output_type": "stream",
     "text": [
      "enter the target: 11\n"
     ]
    },
    {
     "name": "stdout",
     "output_type": "stream",
     "text": [
      "0\n"
     ]
    }
   ],
   "source": [
    "# LINEAR SEARCH\n",
    "import numpy as np\n",
    "x=np.array([11,15,26,38,9,10])\n",
    "target = int(input(\"enter the target:\"))\n",
    "def positive_index(x,target):\n",
    "    n=len(x)\n",
    "    for i in range(n):\n",
    "        if x[i]==target:\n",
    "            print(i)\n",
    "positive_index(x,target)"
   ]
  },
  {
   "cell_type": "code",
   "execution_count": null,
   "id": "b0cc3859-b238-4cb5-a560-7b4f6bbc0865",
   "metadata": {},
   "outputs": [],
   "source": [
    "# LINEAR SEARCH USING WHILE LOOP:\n",
    "def linear_search(arr,target):\n",
    "    i=0\n",
    "    while i<len(arr):\n",
    "        if arr[i]==target:\n",
    "            return i\n",
    "            i+=1\n",
    "    return -1\n",
    "arr=[10,20,30,40,50]\n",
    "target=30\n",
    "result=linear_search(arr,target)\n",
    "if result !="
   ]
  },
  {
   "cell_type": "code",
   "execution_count": null,
   "id": "b0bd9e7f-edb8-4c8e-bd3c-5de60a5e3937",
   "metadata": {},
   "outputs": [],
   "source": []
  }
 ],
 "metadata": {
  "kernelspec": {
   "display_name": "Python 3 (ipykernel)",
   "language": "python",
   "name": "python3"
  },
  "language_info": {
   "codemirror_mode": {
    "name": "ipython",
    "version": 3
   },
   "file_extension": ".py",
   "mimetype": "text/x-python",
   "name": "python",
   "nbconvert_exporter": "python",
   "pygments_lexer": "ipython3",
   "version": "3.12.4"
  }
 },
 "nbformat": 4,
 "nbformat_minor": 5
}
