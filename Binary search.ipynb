{
 "cells": [
  {
   "cell_type": "code",
   "execution_count": 3,
   "id": "87bad21f-63c9-4d63-9921-13e5d5c01fa6",
   "metadata": {},
   "outputs": [
    {
     "name": "stdin",
     "output_type": "stream",
     "text": [
      "Enter the target: 50\n"
     ]
    },
    {
     "name": "stdout",
     "output_type": "stream",
     "text": [
      "the index position of target: 4\n"
     ]
    }
   ],
   "source": [
    "import numpy as np\n",
    "arr=np.array([10,20,30,40,50,60])\n",
    "target = int(input(\"Enter the target:\"))\n",
    "Low=0\n",
    "High = len(arr) - 1\n",
    "found_index=-1\n",
    "while Low<= High:\n",
    "    mid=(Low+High)//2\n",
    "    if arr[mid] == target:\n",
    "        found_index = mid\n",
    "        break\n",
    "    elif arr[mid] < target:\n",
    "       Low = mid + 1  \n",
    "    else:\n",
    "        High = mid - 1\n",
    "        \n",
    "if found_index != -1:\n",
    "    print(\"the index position of target:\",found_index)\n",
    "else:\n",
    "    print(\"Target not found\")"
   ]
  },
  {
   "cell_type": "code",
   "execution_count": null,
   "id": "df714561-02b2-4796-b7bd-ef3276e058e3",
   "metadata": {},
   "outputs": [],
   "source": []
  }
 ],
 "metadata": {
  "kernelspec": {
   "display_name": "Python 3 (ipykernel)",
   "language": "python",
   "name": "python3"
  },
  "language_info": {
   "codemirror_mode": {
    "name": "ipython",
    "version": 3
   },
   "file_extension": ".py",
   "mimetype": "text/x-python",
   "name": "python",
   "nbconvert_exporter": "python",
   "pygments_lexer": "ipython3",
   "version": "3.12.4"
  }
 },
 "nbformat": 4,
 "nbformat_minor": 5
}
