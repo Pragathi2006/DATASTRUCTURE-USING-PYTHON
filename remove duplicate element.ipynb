{
 "cells": [
  {
   "cell_type": "code",
   "execution_count": 9,
   "id": "226f8eef-96ee-4271-bf54-04f22d974376",
   "metadata": {},
   "outputs": [
    {
     "name": "stdout",
     "output_type": "stream",
     "text": [
      "<class 'numpy.ndarray'>\n",
      "[ 10  20  30  40  50   0 100]\n"
     ]
    }
   ],
   "source": [
    "# FIND THE REMOVE DUPLICATE ELEMENTS IN AN ARRAY USING LOOPING :-\n",
    "import numpy as np\n",
    "x=np.array([10,20,30,40,50,10,0,30,100])\n",
    "def r_dup(x):\n",
    "    new_arr=[]\n",
    "    for i in x:\n",
    "        if i not in new_arr:\n",
    "            new_arr.append(i)\n",
    "    return np.array(new_arr)\n",
    "result=r_dup(x)\n",
    "print(type(result))\n",
    "print(result)"
   ]
  },
  {
   "cell_type": "code",
   "execution_count": 11,
   "id": "a2e6ea5f-616e-43f6-a2c0-18094d8571e6",
   "metadata": {},
   "outputs": [
    {
     "name": "stdout",
     "output_type": "stream",
     "text": [
      "<class 'numpy.ndarray'>\n",
      "[  0 100  40  10  50  20  30]\n"
     ]
    }
   ],
   "source": [
    "# THE REMOVE DUPLICATE ELEMNETS IN AN ARRAY USING TYPE CONVERSION:-\n",
    "import numpy as np\n",
    "x=np.array([10,20,30,40,50,10,0,30,100])\n",
    "def r_dup(x):\n",
    "    res=list(set(x)) # type conversion\n",
    "    return np.array(res)\n",
    "result=r_dup(x)\n",
    "print(type(result))\n",
    "print(result)"
   ]
  },
  {
   "cell_type": "code",
   "execution_count": null,
   "id": "a72cc9f5-ef97-4909-af09-eb00bb866f36",
   "metadata": {},
   "outputs": [],
   "source": []
  }
 ],
 "metadata": {
  "kernelspec": {
   "display_name": "Python 3 (ipykernel)",
   "language": "python",
   "name": "python3"
  },
  "language_info": {
   "codemirror_mode": {
    "name": "ipython",
    "version": 3
   },
   "file_extension": ".py",
   "mimetype": "text/x-python",
   "name": "python",
   "nbconvert_exporter": "python",
   "pygments_lexer": "ipython3",
   "version": "3.12.4"
  }
 },
 "nbformat": 4,
 "nbformat_minor": 5
}
