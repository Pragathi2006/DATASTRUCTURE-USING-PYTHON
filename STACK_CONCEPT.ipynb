{
 "cells": [
  {
   "cell_type": "code",
   "execution_count": 32,
   "id": "68d9197c-b5b9-4ef1-9599-64440ce1ee95",
   "metadata": {},
   "outputs": [
    {
     "name": "stdout",
     "output_type": "stream",
     "text": [
      "Original String: Monkey\n",
      "Reversed_String: yeknoM\n"
     ]
    }
   ],
   "source": [
    "#PROGRAM TO REVERSE A STRING A CHARACTER X= MONKEY USING STACK:-\n",
    "def reverse_string_using_stack(s):\n",
    "    # step 1: Initialize an empty stack\n",
    "    stack = []\n",
    "    # step 2: Push all characters of the string onto the stack\n",
    "    for char in s:\n",
    "        stack.append(char)\n",
    "    # step 3: Initialize an empty list to store reversed characters\n",
    "        r = []\n",
    "    # step 4: Pop characters from stack and append to r[]\n",
    "    while stack:\n",
    "            r.append(stack.pop())\n",
    "    # step 5: Convert list back to a string and return \n",
    "    return \"\".join(r)\n",
    "#Example Usage\n",
    "input_string = \"Monkey\"\n",
    "reverse_String = reverse_string_using_stack(input_string)\n",
    "print(\"Original String:\",input_string)\n",
    "print(\"Reversed_String:\",reverse_String)"
   ]
  },
  {
   "cell_type": "code",
   "execution_count": 40,
   "id": "1d504b3f-61bc-4d7c-8b1f-55dde7c6ab9e",
   "metadata": {},
   "outputs": [
    {
     "name": "stdout",
     "output_type": "stream",
     "text": [
      "Original_String: Monkey\n",
      "Reversed_String: yeknoM\n"
     ]
    }
   ],
   "source": [
    "#PROGRAM TO REVERSE A STRING OF CHACACTER X = MONKEY USING STACK:-\n",
    "def reverse_string_using_stack(s):\n",
    "    #Initailize an empty stack\n",
    "    stack = []\n",
    "    # Push all characters onto the stack\n",
    "    for char in s:\n",
    "        stack.append(char)\n",
    "    reversed_str=\"\"\n",
    "    # Pop characters from stack and bulid the reversed string\n",
    "    while stack:\n",
    "        reversed_str += stack.pop()\n",
    "    return reversed_str\n",
    "#Example Usage\n",
    "input_string = \"Monkey\"\n",
    "reversed_string =  reverse_string_using_stack(input_string)\n",
    "print(\"Original_String:\",input_string)\n",
    "print(\"Reversed_String:\",reversed_string)"
   ]
  },
  {
   "cell_type": "code",
   "execution_count": 61,
   "id": "97a17233-d1a4-488e-933e-475360d99db2",
   "metadata": {},
   "outputs": [
    {
     "name": "stdout",
     "output_type": "stream",
     "text": [
      "3\n",
      "0\n",
      "200\n"
     ]
    }
   ],
   "source": [
    "#PROGRAM TO EVALUATE THE GIVEN EXPRESSION AND PRINT THE ANSWER:-\n",
    "def evaluate_expressions(expressions):\n",
    "    results = []\n",
    "    for expr in expressions:\n",
    "        try:\n",
    "            # Evaluate and convert to integer\n",
    "            results.append(str(int(eval(expr))))  \n",
    "        except Exception as e:\n",
    "            # Handle any errors\n",
    "            results.append(f\"Error: {e}\")  \n",
    "    return results\n",
    "\n",
    "# Sample input expressions\n",
    "expressions = [\n",
    "    \"1 + 2\",\n",
    "    \"(1 + 2) / 5\",\n",
    "    \"10 * 20\"\n",
    "]\n",
    "\n",
    "# Evaluate and print results\n",
    "output = evaluate_expressions(expressions)\n",
    "for result in output:\n",
    "    print(result)"
   ]
  },
  {
   "cell_type": "code",
   "execution_count": null,
   "id": "6d5ec0b8-b7b6-4a31-a9a7-a5521f8e3fd2",
   "metadata": {},
   "outputs": [],
   "source": []
  }
 ],
 "metadata": {
  "kernelspec": {
   "display_name": "Python 3 (ipykernel)",
   "language": "python",
   "name": "python3"
  },
  "language_info": {
   "codemirror_mode": {
    "name": "ipython",
    "version": 3
   },
   "file_extension": ".py",
   "mimetype": "text/x-python",
   "name": "python",
   "nbconvert_exporter": "python",
   "pygments_lexer": "ipython3",
   "version": "3.12.4"
  }
 },
 "nbformat": 4,
 "nbformat_minor": 5
}
